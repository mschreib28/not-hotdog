{
 "cells": [
  {
   "cell_type": "code",
   "execution_count": 1,
   "metadata": {},
   "outputs": [
    {
     "name": "stdout",
     "output_type": "stream",
     "text": [
      "343223968\n",
      "343223968\n",
      "b'\\x90Z\\x00\\x00\\x00\\x00\\x00\\x00{\"__metadata__\":{\"format\":\"pt\"},\"classifier.bias\":{\"dtype\":\"F32\",\"shape\":[2],\"data_offsets\":[0,8]},\"classifier.weight\":{\"dtype\":\"F32\",\"shape\":[2,768],\"data_offsets\":[8,6152]},\"vit.embeddings.cls_token\":{\"dtype\":\"F32\",\"shape\":[1,1,768],\"data_offsets\":[6152,9224]},\"vit.embeddings.patch_embeddings.projection.bias\":{\"dtype\":\"F32\",\"shape\":[768],\"data_offsets\":[9224,12296]},\"vit.embeddings.patch_embeddings.projection.weight\":{\"dtype\":\"F32\",\"shape\":[768,3,16,16],\"data_offsets\":[12296,2371592]},\"vit.embeddings.position_embeddings\":{\"dtype\":\"F32\",\"shape\":[1,197,768],\"data_offsets\":[2371592,2976776]},\"vit.encoder.layer.0.attention.attention.key.bias\":{\"dtype\":\"F32\",\"shape\":[768],\"data_offsets\":[2976776,2979848]},\"vit.encoder.layer.0.attention.attention.key.weight\":{\"dtype\":\"F32\",\"shape\":[768,768],\"data_offsets\":[2979848,5339144]},\"vit.encoder.layer.0.attention.attention.query.bias\":{\"dtype\":\"F32\",\"shape\":[768],\"data_offsets\":[5339144,5342216]},\"vit.encoder.layer.0.attention.attention.query.weight\":{\"dtype\":\"F32\",\"shape\":[768,768],\"data_offsets\":[5342216,7701512]},\"vit.encoder.layer.0.attention.attention.value.bias\":{\"dtype\":\"F32\",\"shape\":[768],\"data_offsets\":[7701512,7704584]},\"vit.encoder.layer.0.attention.attention.value.weight\":{\"dtype\":\"F32\",\"shape\":[768,768],\"data_offsets\":[7704584,10063880]},\"vit.encoder.layer.0.attention.output.dense.bias\":{\"dtype\":\"F32\",\"shape\":[768],\"data_offsets\":[10063880,10066952]},\"vit.encoder.layer.0.attention.output.dense.weight\":{\"dtype\":\"F32\",\"shape\":[768,768],\"data_offsets\":[10066952,12426248]},\"vit.encoder.layer.0.intermediate.dense.bias\":{\"dtype\":\"F32\",\"shape\":[3072],\"data_offsets\":[12426248,12438536]},\"vit.encoder.layer.0.intermediate.dense.weight\":{\"dtype\":\"F32\",\"shape\":[3072,768],\"data_offsets\":[12438536,21875720]},\"vit.encoder.layer.0.layernorm_after.bias\":{\"dtype\":\"F32\",\"shape\":[768],\"data_offsets\":[21875720,21878792]},\"vit.encoder.layer.0.layernorm_after.weight\":{\"dtype\":\"F32\",\"shape\":[768],\"data_offsets\":[21878792,21881864]}'\n",
      "b'{\"__metadata__\":{\"format\":\"pt\"},\"classifier.bias\":{\"dtype\":\"F32\",\"shape\":[2],\"data_offsets\":[0,8]},\"classifier.weight\":{\"dtype\":\"F32\",\"shape\":[2,768],\"data_offsets\":[8,6152]},\"vit.embeddings.cls_token\":{\"dtype\":\"F32\",\"shape\":[1,1,768],\"data_offsets\":[6152,9224]},\"vit.embeddings.patch_embeddings.projection.bias\":{\"dtype\":\"F32\",\"shape\":[768],\"data_offsets\":[9224,12296]},\"vit.embeddings.patch_embeddings.projection.weight\":{\"dtype\":\"F32\",\"shape\":[768,3,16,16],\"data_offsets\":[12296,2371592]},\"vit.embeddings.position_embeddings\":{\"dtype\":\"F32\",\"shape\":[1,197,768],\"data_offsets\":[2371592,2976776]},\"vit.encoder.layer.0.attention.attention.key.bias\":{\"dtype\":\"F32\",\"shape\":[768],\"data_offsets\":[2976776,2979848]},\"vit.encoder.layer.0.attention.attention.key.weight\":{\"dtype\":\"F32\",\"shape\":[768,768],\"data_offsets\":[2979848,5339144]},\"vit.encoder.layer.0.attention.attention.query.bias\":{\"dtype\":\"F32\",\"shape\":[768],\"data_offsets\":[5339144,5342216]},\"vit.encoder.layer.0.attention.attention.query.weight\":{\"dtype\":\"F32\",\"shape\":[768,768],\"data_offsets\":[5342216,7701512]},\"vit.encoder.layer.0.attention.attention.value.bias\":{\"dtype\":\"F32\",\"shape\":[768],\"data_offsets\":[7701512,7704584]},\"vit.encoder.layer.0.attention.attention.value.weight\":{\"dtype\":\"F32\",\"shape\":[768,768],\"data_offsets\":[7704584,10063880]},\"vit.encoder.layer.0.attention.output.dense.bias\":{\"dtype\":\"F32\",\"shape\":[768],\"data_offsets\":[10063880,10066952]},\"vit.encoder.layer.0.attention.output.dense.weight\":{\"dtype\":\"F32\",\"shape\":[768,768],\"data_offsets\":[10066952,12426248]},\"vit.encoder.layer.0.intermediate.dense.bias\":{\"dtype\":\"F32\",\"shape\":[3072],\"data_offsets\":[12426248,12438536]},\"vit.encoder.layer.0.intermediate.dense.weight\":{\"dtype\":\"F32\",\"shape\":[3072,768],\"data_offsets\":[12438536,21875720]},\"vit.encoder.layer.0.layernorm_after.bias\":{\"dtype\":\"F32\",\"shape\":[768],\"data_offsets\":[21875720,21878792]},\"vit.encoder.layer.0.layernorm_after.weight\":{\"dtype\":\"F32\",\"shape\":[768],\"data_offsets\":[21878792,21881864]},\"vit.en'\n"
     ]
    }
   ],
   "source": [
    "import os\n",
    "file = '../checkpoint-112/model.safetensors'\n",
    "size = os.path.getsize(file)\n",
    "print(size)\n",
    "\n",
    "# Open the file\n",
    "with open(file, 'rb') as f:\n",
    "    # Read the data\n",
    "    data = f.read()\n",
    "    # Print the size of the file\n",
    "    print(len(data))\n",
    "    # Print the first 2000 characters of the file\n",
    "    print(data[:2000])\n",
    "    # Remove the first 8 bytes of the file\n",
    "    data = data[8:]\n",
    "    # Print the first 2000 characters of the file\n",
    "    print(data[:2000])\n",
    "    # Convert binary data to a string and parse it as JSON\n",
    "    data = data[:23185].decode('utf-8')\n",
    "    # Write the JSON data to a file\n",
    "    with open('checkpoint-112.json', 'w') as f:\n",
    "        f.write(data)"
   ]
  }
 ],
 "metadata": {
  "kernelspec": {
   "display_name": ".venv",
   "language": "python",
   "name": "python3"
  },
  "language_info": {
   "codemirror_mode": {
    "name": "ipython",
    "version": 3
   },
   "file_extension": ".py",
   "mimetype": "text/x-python",
   "name": "python",
   "nbconvert_exporter": "python",
   "pygments_lexer": "ipython3",
   "version": "3.12.2"
  }
 },
 "nbformat": 4,
 "nbformat_minor": 2
}
